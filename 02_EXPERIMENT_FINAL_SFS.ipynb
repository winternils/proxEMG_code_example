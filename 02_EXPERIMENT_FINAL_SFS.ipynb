{
 "cells": [
  {
   "cell_type": "code",
   "execution_count": 1,
   "id": "31e91a54",
   "metadata": {},
   "outputs": [],
   "source": [
    "from pylsl import StreamInlet, resolve_stream\n",
    "import numpy as np\n",
    "import pandas as pd\n",
    "\n",
    "from sklearn.discriminant_analysis import LinearDiscriminantAnalysis as LDA\n",
    "from sklearn.model_selection import train_test_split, cross_val_score, cross_validate, KFold\n",
    "import matplotlib.pyplot as plt\n",
    "\n",
    "from scipy import stats\n",
    "\n",
    "import time\n",
    "\n",
    "#from volume_control import volume_up,  volume_down, volume_on, volume_off"
   ]
  },
  {
   "cell_type": "markdown",
   "id": "9f6374d7",
   "metadata": {},
   "source": [
    "#### functions for feature calculations"
   ]
  },
  {
   "cell_type": "code",
   "execution_count": 2,
   "id": "cb65aee9",
   "metadata": {},
   "outputs": [],
   "source": [
    "def rms(values):\n",
    "    return np.sqrt(np.sum(np.square(values))/len(values))\n",
    "\n",
    "def mav(values):\n",
    "    return np.sum(np.absolute(values))/len(values)    \n",
    "\n",
    "def var(values):\n",
    "    return np.sum(np.square(values))/(len(values)-1)\n",
    "\n",
    "def wl_exp(values):\n",
    "    wavelen = np.sum(np.abs(values[:-1]-values[1:]))\n",
    "    return wavelen\n",
    "\n",
    "def wl(values):\n",
    "    val_array = values.to_numpy()\n",
    "    wavelen = np.sum(np.abs(val_array[:-1]-val_array[1:]))\n",
    "    return wavelen\n",
    "\n",
    "def zc(values):\n",
    "    val_array = values.to_numpy()\n",
    "    zero_crossings = np.where(np.diff(np.signbit(val_array)))[0]\n",
    "    return len(zero_crossings)\n",
    "\n",
    "def zc_exp(values):\n",
    "    val_array = values.to_numpy()\n",
    "    zero_crossings = np.where(np.diff(np.signbit(val_array)))[0]\n",
    "    return len(zero_crossings)"
   ]
  },
  {
   "cell_type": "markdown",
   "id": "79167e55",
   "metadata": {},
   "source": [
    "### TRAINING"
   ]
  },
  {
   "cell_type": "markdown",
   "id": "190f09be",
   "metadata": {},
   "source": [
    "- set current device and subject_ID"
   ]
  },
  {
   "cell_type": "code",
   "execution_count": 3,
   "id": "cf6894ee",
   "metadata": {},
   "outputs": [],
   "source": [
    "def read_from_file(file: str):\n",
    "    data = pd.read_csv(file)\n",
    "    return data.loc[data[\"direction\"] > 0]\n",
    "\n",
    "path_lg = '/Users/lukasgehrke/Documents/publications/proxEMG/data/4_chan/'\n",
    "path_nw = 'C:/Users/Nils/Documents/02_Uni/Master Human Factors/\\\n",
    "00_Masterarbeit/55_github/proxEMG/data/user_study/'\n",
    "path_mac_old = '/Users/work/Desktop/Nils/study/4_chan/'\n",
    "path_mac = '/Users/work/Desktop/Nils/proxEMG/data/user_study/'\n",
    "\n",
    "device = path_nw\n",
    "subject_id = '00_final_pre'\n",
    "\n",
    "path_rot = device + subject_id + '/' + subject_id + '_training_rotation.csv'\n",
    "path_ges = device + subject_id + '/' + subject_id + '_training_gesture.csv'"
   ]
  },
  {
   "cell_type": "code",
   "execution_count": 4,
   "id": "c914fb75",
   "metadata": {},
   "outputs": [],
   "source": [
    "def feature_calculation(data:pd.DataFrame, win_size=None, baseline=False, baseline_size=1):\n",
    "    df = pd.DataFrame()\n",
    "    n_epoch = data['epoch_ixs'].max()\n",
    "    \n",
    "    for i in range(1,n_epoch+1):\n",
    "        \n",
    "        data_curr = data[data['epoch_ixs']==i]\n",
    "\n",
    "        if win_size is not None: # get middle window\n",
    "            middle_t = (len(data_curr)-1) / 2\n",
    "            start_t = int(np.floor(middle_t - win_size/2))\n",
    "            end_t = int(np.floor(middle_t + win_size/2))\n",
    "            data_curr = data_curr[start_t:end_t]\n",
    "\n",
    "        if baseline:\n",
    "            base = data_curr.iloc[0:baseline_size,2:].mean()\n",
    "            data_curr.iloc[:,2:] = data_curr.iloc[:,2:] - base\n",
    "        \n",
    "        # df_curr = data_curr[:win_size].filter(muscles_list[:-1]).agg(features_selected).melt().transpose()[-1:]\n",
    "        df_curr = data_curr.filter(muscles_list).agg(features_selected).melt().transpose()[-1:]\n",
    "        df_curr['direction'] = data_curr.direction.values[0]\n",
    "        \n",
    "        df = pd.concat([df,df_curr], axis=0, ignore_index=True)\n",
    "        #print(i)\n",
    "    \n",
    "    return df"
   ]
  },
  {
   "cell_type": "markdown",
   "id": "c85b1880",
   "metadata": {},
   "source": [
    "#### feature calculation and data preparation"
   ]
  },
  {
   "cell_type": "code",
   "execution_count": 5,
   "id": "d5dbedbf",
   "metadata": {},
   "outputs": [
    {
     "name": "stdout",
     "output_type": "stream",
     "text": [
      "Wall time: 5.55 s\n"
     ]
    }
   ],
   "source": [
    "%%time\n",
    "\n",
    "windowsize = 250\n",
    "baselinesize = windowsize\n",
    "\n",
    "features_selected = [rms,mav,var, wl,zc]\n",
    "#features_selected = [mav, var, wl]\n",
    "#features_selected = [wl, mav, var]\n",
    "muscles_list = [\"muscle1\",\"muscle2\", \"muscle3\",\"muscle4\"]\n",
    "# muscles_list = [\"muscle1\",\"muscle2\", \"muscle3\"] \n",
    "\n",
    "# overlap = 0.2\n",
    "# stepsize = windowsize - int(overlap*windowsize)\n",
    "# muscles_list = [\"muscle2\", \"muscle3\"]\n",
    "\n",
    "import warnings\n",
    "warnings.filterwarnings('ignore')\n",
    "\n",
    "all_data_rot = feature_calculation(read_from_file(file=path_rot), win_size=windowsize, baseline=True, baseline_size=baselinesize)\n",
    "all_data_ges = feature_calculation(read_from_file(file=path_ges), win_size=windowsize, baseline=True, baseline_size=baselinesize)"
   ]
  },
  {
   "cell_type": "code",
   "execution_count": 6,
   "id": "6fca548b",
   "metadata": {},
   "outputs": [],
   "source": [
    "# zusammenfassen von no_rot_left & no_rot_right\n",
    "all_data_rot['direction'] = all_data_rot['direction'].replace([4],[3])\n",
    "\n",
    "# check class sizes\n",
    "freq_rot = all_data_rot['direction'].value_counts() \n",
    "freq_ges = all_data_ges['direction'].value_counts()\n",
    "\n",
    "# sample all classes to smallest class size\n",
    "sample_data_ges = all_data_ges.groupby('direction').sample(n=min(freq_ges), random_state=42)\n",
    "sample_data_rot = all_data_rot.groupby('direction').sample(n=min(freq_rot), random_state=42)"
   ]
  },
  {
   "cell_type": "markdown",
   "id": "e0008dbc",
   "metadata": {},
   "source": [
    "### TESTING"
   ]
  },
  {
   "cell_type": "code",
   "execution_count": 7,
   "id": "ab0a88c5",
   "metadata": {},
   "outputs": [],
   "source": [
    "def LDA_with_CV(data: pd.DataFrame, folds = 10):\n",
    "    #clf=LDA('lsqr',shrinkage='auto')\n",
    "    clf=LDA()\n",
    "    kfolds = KFold(n_splits=folds, random_state=1, shuffle=True)\n",
    "    \n",
    "    X_train = data.iloc[:,1:len(data.columns)].values\n",
    "    y_train = data.direction\n",
    "    \n",
    "    cv_results = cross_val_score(clf, X_train, y_train, cv=kfolds)\n",
    "\n",
    "    print(\"%0.3f accuracy with a standard deviation of %0.3f using %0.f-folds-CV\" % (cv_results.mean(), cv_results.std(),folds))"
   ]
  },
  {
   "cell_type": "code",
   "execution_count": 8,
   "id": "ef7196bf",
   "metadata": {},
   "outputs": [],
   "source": [
    "def testing(data: pd.DataFrame, testsize = 0.25):\n",
    "    clf=LDA()\n",
    "    X = data.iloc[:,1:len(data.columns)].values\n",
    "    y = data.direction\n",
    "    X_train, X_test, y_train, y_test = train_test_split(X, y, test_size=testsize, random_state=42)\n",
    "    \n",
    "    clf.fit(X_train, y_train)\n",
    "    test_result = clf.score(X_test,y_test)\n",
    "    \n",
    "    print(\"%0.3f accuracy with a test_size of %0.2f\" % (test_result, testsize))  "
   ]
  },
  {
   "cell_type": "markdown",
   "id": "2a125642",
   "metadata": {},
   "source": [
    "testing:\n",
    "<br>\n",
    "- LDA_with_CV: LDA with cross validation; optional parameter folds (default 10)\n",
    "- testing: LDA with train-test-split; optional parameter testsize (default 0.25)"
   ]
  },
  {
   "cell_type": "code",
   "execution_count": 9,
   "id": "baff6511",
   "metadata": {},
   "outputs": [
    {
     "name": "stdout",
     "output_type": "stream",
     "text": [
      "1.000 accuracy with a standard deviation of 0.000 using 10-folds-CV\n",
      "0.880 accuracy with a standard deviation of 0.098 using 5-folds-CV\n",
      "1.000 accuracy with a test_size of 0.25\n",
      "1.000 accuracy with a test_size of 0.25\n"
     ]
    }
   ],
   "source": [
    "LDA_with_CV(sample_data_ges)\n",
    "LDA_with_CV(sample_data_rot,folds=5)\n",
    "\n",
    "testing(sample_data_ges)\n",
    "testing(sample_data_rot)"
   ]
  },
  {
   "cell_type": "markdown",
   "id": "8276e5f1",
   "metadata": {},
   "source": [
    "## SFS"
   ]
  },
  {
   "cell_type": "code",
   "execution_count": 10,
   "id": "2d15cd81",
   "metadata": {},
   "outputs": [
    {
     "name": "stdout",
     "output_type": "stream",
     "text": [
      "RMS\n",
      "0.518 accuracy with a standard deviation of 0.191 using 10-folds-CV\n",
      "0.474 accuracy with a test_size of 0.25\n",
      "MAV\n",
      "0.477 accuracy with a standard deviation of 0.197 using 10-folds-CV\n",
      "0.421 accuracy with a test_size of 0.25\n",
      "VAR\n",
      "0.577 accuracy with a standard deviation of 0.155 using 10-folds-CV\n",
      "0.421 accuracy with a test_size of 0.25\n",
      "WL\n",
      "0.607 accuracy with a standard deviation of 0.170 using 10-folds-CV\n",
      "0.737 accuracy with a test_size of 0.25\n",
      "ZC\n",
      "0.598 accuracy with a standard deviation of 0.135 using 10-folds-CV\n",
      "0.579 accuracy with a test_size of 0.25\n"
     ]
    }
   ],
   "source": [
    "# first stage\n",
    "rms_set = sample_data_rot.iloc[:,[0,5,10,15,20]]\n",
    "mav_set = sample_data_rot.iloc[:,[1,6,11,16,20]]\n",
    "var_set = sample_data_rot.iloc[:,[2,7,12,17,20]]\n",
    "wl_set = sample_data_rot.iloc[:,[3,8,13,18,20]] \n",
    "zc_set = sample_data_rot.iloc[:,[4,9,14,19,20]]\n",
    "\n",
    "\n",
    "print(\"RMS\")\n",
    "LDA_with_CV(rms_set)\n",
    "testing(rms_set)\n",
    "\n",
    "print(\"MAV\")\n",
    "LDA_with_CV(mav_set)\n",
    "testing(mav_set)\n",
    "\n",
    "print(\"VAR\")\n",
    "LDA_with_CV(var_set)\n",
    "testing(var_set)\n",
    "\n",
    "print(\"WL\")\n",
    "LDA_with_CV(wl_set)\n",
    "testing(wl_set)\n",
    "\n",
    "print(\"ZC\")\n",
    "LDA_with_CV(zc_set)\n",
    "testing(zc_set)"
   ]
  },
  {
   "cell_type": "code",
   "execution_count": 11,
   "id": "515122ef",
   "metadata": {},
   "outputs": [
    {
     "name": "stdout",
     "output_type": "stream",
     "text": [
      "WL + RMS\n",
      "0.800 accuracy with a standard deviation of 0.137 using 10-folds-CV\n",
      "0.947 accuracy with a test_size of 0.25\n",
      "WL + MAV\n",
      "0.812 accuracy with a standard deviation of 0.126 using 10-folds-CV\n",
      "0.947 accuracy with a test_size of 0.25\n",
      "WL + VAR\n",
      "0.736 accuracy with a standard deviation of 0.126 using 10-folds-CV\n",
      "0.842 accuracy with a test_size of 0.25\n",
      "WL + ZC\n",
      "0.709 accuracy with a standard deviation of 0.162 using 10-folds-CV\n",
      "0.947 accuracy with a test_size of 0.25\n"
     ]
    }
   ],
   "source": [
    "# second stage\n",
    "wl_rms_set = sample_data_rot.iloc[:,[3,8,13,18,0,5,10,15,20]]\n",
    "wl_mav_set = sample_data_rot.iloc[:,[3,8,13,18,1,6,11,16,20]]\n",
    "wl_var_set = sample_data_rot.iloc[:,[3,8,13,18,2,7,12,17,20]]\n",
    "#wl_set = sample_data_rot.iloc[:,[3,8,13,18,20]] \n",
    "wl_zc_set = sample_data_rot.iloc[:,[3,8,13,18,4,9,14,19,20]]\n",
    "\n",
    "print(\"WL + RMS\")\n",
    "LDA_with_CV(wl_rms_set)\n",
    "testing(wl_rms_set)\n",
    "\n",
    "print(\"WL + MAV\")\n",
    "LDA_with_CV(wl_mav_set)\n",
    "testing(wl_mav_set)\n",
    "\n",
    "print(\"WL + VAR\")\n",
    "LDA_with_CV(wl_var_set)\n",
    "testing(wl_var_set)\n",
    "\n",
    "print(\"WL + ZC\")\n",
    "LDA_with_CV(wl_zc_set)\n",
    "testing(wl_zc_set)"
   ]
  },
  {
   "cell_type": "code",
   "execution_count": 12,
   "id": "d0759371",
   "metadata": {},
   "outputs": [
    {
     "name": "stdout",
     "output_type": "stream",
     "text": [
      "WL + MAV + RMS\n",
      "0.802 accuracy with a standard deviation of 0.145 using 10-folds-CV\n",
      "0.842 accuracy with a test_size of 0.25\n",
      "WL + MAV + VAR\n",
      "0.855 accuracy with a standard deviation of 0.134 using 10-folds-CV\n",
      "0.947 accuracy with a test_size of 0.25\n",
      "WL + MAV + ZC\n",
      "0.841 accuracy with a standard deviation of 0.137 using 10-folds-CV\n",
      "0.947 accuracy with a test_size of 0.25\n"
     ]
    }
   ],
   "source": [
    "# third stage \n",
    "wl_mav_rms_set = sample_data_rot.iloc[:,[3,8,13,18,1,6,11,16,0,5,10,15,20]]\n",
    "#wl_mav_set = sample_data_rot.iloc[:,[3,8,13,18,1,6,11,16,20]]\n",
    "wl_mav_var_set = sample_data_rot.iloc[:,[3,8,13,18,1,6,11,16,2,7,12,17,20]]\n",
    "#wl_set = sample_data_rot.iloc[:,[3,8,13,18,20]] \n",
    "wl_mav_zc_set = sample_data_rot.iloc[:,[3,8,13,18,1,6,11,16,4,9,14,19,20]]\n",
    "\n",
    "print(\"WL + MAV + RMS\")\n",
    "LDA_with_CV(wl_mav_rms_set)\n",
    "testing(wl_mav_rms_set)\n",
    "\n",
    "print(\"WL + MAV + VAR\")\n",
    "LDA_with_CV(wl_mav_var_set)\n",
    "testing(wl_mav_var_set)\n",
    "\n",
    "print(\"WL + MAV + ZC\")\n",
    "LDA_with_CV(wl_mav_zc_set)\n",
    "testing(wl_mav_zc_set)"
   ]
  },
  {
   "cell_type": "code",
   "execution_count": 13,
   "id": "7677d7c4",
   "metadata": {},
   "outputs": [
    {
     "name": "stdout",
     "output_type": "stream",
     "text": [
      "WL + MAV + VAR + RMS\n",
      "0.866 accuracy with a standard deviation of 0.085 using 10-folds-CV\n",
      "0.895 accuracy with a test_size of 0.25\n",
      "WL + MAV + VAR + ZC\n",
      "0.814 accuracy with a standard deviation of 0.142 using 10-folds-CV\n",
      "1.000 accuracy with a test_size of 0.25\n"
     ]
    }
   ],
   "source": [
    "# fourth stage\n",
    "\n",
    "wl_mav_var_rms_set = sample_data_rot.iloc[:,[3,8,13,18,1,6,11,16,2,7,12,17,0,5,10,15,20]]\n",
    "wl_mav_var_zc_set = sample_data_rot.iloc[:,[3,8,13,18,1,6,11,16,2,7,12,17,4,9,14,19,20]]\n",
    "\n",
    "print(\"WL + MAV + VAR + RMS\")\n",
    "LDA_with_CV(wl_mav_var_rms_set)\n",
    "testing(wl_mav_var_rms_set)\n",
    "\n",
    "\n",
    "print(\"WL + MAV + VAR + ZC\")\n",
    "LDA_with_CV(wl_mav_var_zc_set)\n",
    "testing(wl_mav_var_zc_set)\n"
   ]
  },
  {
   "cell_type": "code",
   "execution_count": 16,
   "id": "d0ed8789",
   "metadata": {},
   "outputs": [
    {
     "name": "stdout",
     "output_type": "stream",
     "text": [
      "WL + MAV + VAR + RMS + ZC\n",
      "0.896 accuracy with a standard deviation of 0.095 using 10-folds-CV\n",
      "1.000 accuracy with a test_size of 0.25\n"
     ]
    }
   ],
   "source": [
    "# fifth stage\n",
    "\n",
    "wl_mav_var_rms_zc_set = sample_data_rot.iloc[:,[3,8,13,18,1,6,11,16,2,7,12,17,0,5,10,15,4,9,14,19,20]]\n",
    "\n",
    "print(\"WL + MAV + VAR + RMS + ZC\")\n",
    "LDA_with_CV(wl_mav_var_rms_zc_set)\n",
    "testing(wl_mav_var_rms_zc_set)"
   ]
  },
  {
   "cell_type": "code",
   "execution_count": 21,
   "id": "777337f8",
   "metadata": {},
   "outputs": [
    {
     "data": {
      "text/plain": [
       "[<matplotlib.lines.Line2D at 0x213226d4bb0>]"
      ]
     },
     "execution_count": 21,
     "metadata": {},
     "output_type": "execute_result"
    },
    {
     "data": {
      "image/png": "[encoded data removed]",
      "text/plain": [
       "<Figure size 432x288 with 1 Axes>"
      ]
     },
     "metadata": {
      "needs_background": "light"
     },
     "output_type": "display_data"
    }
   ],
   "source": [
    "y = [0.607,0.812,0.855,0.866,0.896]\n",
    "x = [1,2,3,4,5]\n",
    "\n",
    "plt.plot(x,y)"
   ]
  }
 ],
 "metadata": {
  "interpreter": {
   "hash": "6f4c2e463aadd158ad0eca51b972f9bf2f364fecd63e3138821b37f845d5fad9"
  },
  "kernelspec": {
   "display_name": "Python 3",
   "language": "python",
   "name": "python3"
  },
  "language_info": {
   "codemirror_mode": {
    "name": "ipython",
    "version": 3
   },
   "file_extension": ".py",
   "mimetype": "text/x-python",
   "name": "python",
   "nbconvert_exporter": "python",
   "pygments_lexer": "ipython3",
   "version": "3.8.8"
  }
 },
 "nbformat": 4,
 "nbformat_minor": 5
}
